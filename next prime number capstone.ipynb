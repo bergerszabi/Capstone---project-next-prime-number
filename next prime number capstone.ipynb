{
 "cells": [
  {
   "cell_type": "code",
   "execution_count": 5,
   "metadata": {},
   "outputs": [],
   "source": [
    "# Next Prime Number - Have the program find prime numbers until the user chooses to stop asking for the next one. \n",
    "# Final Capstone project for Complete Python Bootcamp\n",
    "# By Szabolcs Berger"
   ]
  },
  {
   "cell_type": "code",
   "execution_count": 1,
   "metadata": {},
   "outputs": [],
   "source": [
    "def is_prime(number):\n",
    "    \n",
    "    if number<=3:\n",
    "        return (number>1)\n",
    "    \n",
    "    else:\n",
    "        if (number%2) == 0 or (number%3) == 0:\n",
    "            return False\n",
    "        \n",
    "        for i in range(5, int(number**0.5) + 1, 6):\n",
    "            if number % i == 0 or number % (i + 2) == 0:\n",
    "                return False\n",
    "        return True"
   ]
  },
  {
   "cell_type": "code",
   "execution_count": 2,
   "metadata": {},
   "outputs": [
    {
     "name": "stdout",
     "output_type": "stream",
     "text": [
      "-----------------------------------------\n",
      "I generate the Next Prime Number for you!\n",
      "Our current prime number is : [ 2 ]\n"
     ]
    },
    {
     "name": "stdin",
     "output_type": "stream",
     "text": [
      "\t Do you want to see the next Prime Number (y/n) ? y\n"
     ]
    },
    {
     "name": "stdout",
     "output_type": "stream",
     "text": [
      "-----------------------------------------\n",
      "I generate the Next Prime Number for you!\n",
      "Our current prime number is : [ 3 ]\n"
     ]
    },
    {
     "name": "stdin",
     "output_type": "stream",
     "text": [
      "\t Do you want to see the next Prime Number (y/n) ? y\n"
     ]
    },
    {
     "name": "stdout",
     "output_type": "stream",
     "text": [
      "-----------------------------------------\n",
      "I generate the Next Prime Number for you!\n",
      "Our current prime number is : [ 5 ]\n"
     ]
    },
    {
     "name": "stdin",
     "output_type": "stream",
     "text": [
      "\t Do you want to see the next Prime Number (y/n) ? y\n"
     ]
    },
    {
     "name": "stdout",
     "output_type": "stream",
     "text": [
      "-----------------------------------------\n",
      "I generate the Next Prime Number for you!\n",
      "Our current prime number is : [ 7 ]\n"
     ]
    },
    {
     "name": "stdin",
     "output_type": "stream",
     "text": [
      "\t Do you want to see the next Prime Number (y/n) ? y\n"
     ]
    },
    {
     "name": "stdout",
     "output_type": "stream",
     "text": [
      "-----------------------------------------\n",
      "I generate the Next Prime Number for you!\n",
      "Our current prime number is : [ 11 ]\n"
     ]
    },
    {
     "name": "stdin",
     "output_type": "stream",
     "text": [
      "\t Do you want to see the next Prime Number (y/n) ? y\n"
     ]
    },
    {
     "name": "stdout",
     "output_type": "stream",
     "text": [
      "-----------------------------------------\n",
      "I generate the Next Prime Number for you!\n",
      "Our current prime number is : [ 13 ]\n"
     ]
    },
    {
     "name": "stdin",
     "output_type": "stream",
     "text": [
      "\t Do you want to see the next Prime Number (y/n) ? y\n"
     ]
    },
    {
     "name": "stdout",
     "output_type": "stream",
     "text": [
      "-----------------------------------------\n",
      "I generate the Next Prime Number for you!\n",
      "Our current prime number is : [ 17 ]\n"
     ]
    },
    {
     "name": "stdin",
     "output_type": "stream",
     "text": [
      "\t Do you want to see the next Prime Number (y/n) ? y\n"
     ]
    },
    {
     "name": "stdout",
     "output_type": "stream",
     "text": [
      "-----------------------------------------\n",
      "I generate the Next Prime Number for you!\n",
      "Our current prime number is : [ 19 ]\n"
     ]
    },
    {
     "name": "stdin",
     "output_type": "stream",
     "text": [
      "\t Do you want to see the next Prime Number (y/n) ? n\n"
     ]
    }
   ],
   "source": [
    "current_prime = 2\n",
    "\n",
    "while True: \n",
    "    print('-----------------------------------------')\n",
    "    print('I generate the Next Prime Number for you!')\n",
    "    print('Our current prime number is : [ {} ]'.format(current_prime))\n",
    "    \n",
    "    answer = input('Do you want to see the next Prime Number (y/n) ?')\n",
    "    \n",
    "    if answer == 'y':\n",
    "        search_num = current_prime + 1\n",
    "        \n",
    "        while (is_prime(search_num) == False):\n",
    "            search_num+=1\n",
    "        \n",
    "        current_prime = search_num\n",
    "    else:\n",
    "        break\n",
    "   \n",
    "\n"
   ]
  },
  {
   "cell_type": "code",
   "execution_count": null,
   "metadata": {},
   "outputs": [],
   "source": []
  }
 ],
 "metadata": {
  "kernelspec": {
   "display_name": "Python 3",
   "language": "python",
   "name": "python3"
  },
  "language_info": {
   "codemirror_mode": {
    "name": "ipython",
    "version": 3
   },
   "file_extension": ".py",
   "mimetype": "text/x-python",
   "name": "python",
   "nbconvert_exporter": "python",
   "pygments_lexer": "ipython3",
   "version": "3.7.3"
  }
 },
 "nbformat": 4,
 "nbformat_minor": 2
}
